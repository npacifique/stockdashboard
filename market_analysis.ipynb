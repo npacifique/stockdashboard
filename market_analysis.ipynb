{
 "cells": [
  {
   "cell_type": "code",
   "execution_count": 1,
   "metadata": {},
   "outputs": [],
   "source": [
    "import numpy as np\n",
    "import pandas as pd\n",
    "import yfinance as yf\n",
    "import plotly.express as px\n",
    "import plotly.graph_objects as go"
   ]
  },
  {
   "cell_type": "markdown",
   "metadata": {},
   "source": [
    "### Data Acquisition"
   ]
  },
  {
   "cell_type": "code",
   "execution_count": null,
   "metadata": {},
   "outputs": [
    {
     "ename": "KeyboardInterrupt",
     "evalue": "",
     "output_type": "error",
     "traceback": [
      "\u001b[1;31m---------------------------------------------------------------------------\u001b[0m",
      "\u001b[1;31mKeyboardInterrupt\u001b[0m                         Traceback (most recent call last)",
      "Cell \u001b[1;32mIn[2], line 15\u001b[0m\n\u001b[0;32m      5\u001b[0m \u001b[38;5;250m    \u001b[39m\u001b[38;5;124;03m\"\"\"\u001b[39;00m\n\u001b[0;32m      6\u001b[0m \u001b[38;5;124;03m    Return stock data and received s(symbol), p(period), and sm(simple moving average)\u001b[39;00m\n\u001b[0;32m      7\u001b[0m \u001b[38;5;124;03m    \u001b[39;00m\n\u001b[0;32m      8\u001b[0m \u001b[38;5;124;03m    \"\"\"\u001b[39;00m\n\u001b[0;32m      9\u001b[0m     \u001b[38;5;28;01mreturn\u001b[39;00m yf\u001b[38;5;241m.\u001b[39mTicker(s)\u001b[38;5;241m.\u001b[39mhistory(period\u001b[38;5;241m=\u001b[39m p)\u001b[38;5;241m.\u001b[39massign(\n\u001b[0;32m     10\u001b[0m         sma20 \u001b[38;5;241m=\u001b[39m \u001b[38;5;28;01mlambda\u001b[39;00m x : x[\u001b[38;5;124m'\u001b[39m\u001b[38;5;124mClose\u001b[39m\u001b[38;5;124m'\u001b[39m]\u001b[38;5;241m.\u001b[39mrolling(window\u001b[38;5;241m=\u001b[39m\u001b[38;5;241m20\u001b[39m)\u001b[38;5;241m.\u001b[39mmean(),\n\u001b[0;32m     11\u001b[0m         sma50 \u001b[38;5;241m=\u001b[39m \u001b[38;5;28;01mlambda\u001b[39;00m x : x[\u001b[38;5;124m'\u001b[39m\u001b[38;5;124mClose\u001b[39m\u001b[38;5;124m'\u001b[39m]\u001b[38;5;241m.\u001b[39mrolling(window\u001b[38;5;241m=\u001b[39m\u001b[38;5;241m50\u001b[39m)\u001b[38;5;241m.\u001b[39mmean(),\n\u001b[0;32m     12\u001b[0m         sma100 \u001b[38;5;241m=\u001b[39m \u001b[38;5;28;01mlambda\u001b[39;00m x : x[\u001b[38;5;124m'\u001b[39m\u001b[38;5;124mClose\u001b[39m\u001b[38;5;124m'\u001b[39m]\u001b[38;5;241m.\u001b[39mrolling(window\u001b[38;5;241m=\u001b[39m\u001b[38;5;241m100\u001b[39m)\u001b[38;5;241m.\u001b[39mmean(),\n\u001b[0;32m     13\u001b[0m         sma200 \u001b[38;5;241m=\u001b[39m \u001b[38;5;28;01mlambda\u001b[39;00m x : x[\u001b[38;5;124m'\u001b[39m\u001b[38;5;124mClose\u001b[39m\u001b[38;5;124m'\u001b[39m]\u001b[38;5;241m.\u001b[39mrolling(window\u001b[38;5;241m=\u001b[39m\u001b[38;5;241m200\u001b[39m)\u001b[38;5;241m.\u001b[39mmean(),\n\u001b[0;32m     14\u001b[0m     )\n\u001b[1;32m---> 15\u001b[0m df \u001b[38;5;241m=\u001b[39m \u001b[43mget_stock\u001b[49m\u001b[43m(\u001b[49m\u001b[43msymbol\u001b[49m\u001b[43m,\u001b[49m\u001b[43m \u001b[49m\u001b[43mperiod\u001b[49m\u001b[43m)\u001b[49m\n",
      "Cell \u001b[1;32mIn[2], line 9\u001b[0m, in \u001b[0;36mget_stock\u001b[1;34m(s, p)\u001b[0m\n\u001b[0;32m      4\u001b[0m \u001b[38;5;28;01mdef\u001b[39;00m \u001b[38;5;21mget_stock\u001b[39m(s, p):\n\u001b[0;32m      5\u001b[0m \u001b[38;5;250m    \u001b[39m\u001b[38;5;124;03m\"\"\"\u001b[39;00m\n\u001b[0;32m      6\u001b[0m \u001b[38;5;124;03m    Return stock data and received s(symbol), p(period), and sm(simple moving average)\u001b[39;00m\n\u001b[0;32m      7\u001b[0m \u001b[38;5;124;03m    \u001b[39;00m\n\u001b[0;32m      8\u001b[0m \u001b[38;5;124;03m    \"\"\"\u001b[39;00m\n\u001b[1;32m----> 9\u001b[0m     \u001b[38;5;28;01mreturn\u001b[39;00m \u001b[43myf\u001b[49m\u001b[38;5;241;43m.\u001b[39;49m\u001b[43mTicker\u001b[49m\u001b[43m(\u001b[49m\u001b[43ms\u001b[49m\u001b[43m)\u001b[49m\u001b[38;5;241;43m.\u001b[39;49m\u001b[43mhistory\u001b[49m\u001b[43m(\u001b[49m\u001b[43mperiod\u001b[49m\u001b[38;5;241;43m=\u001b[39;49m\u001b[43m \u001b[49m\u001b[43mp\u001b[49m\u001b[43m)\u001b[49m\u001b[38;5;241m.\u001b[39massign(\n\u001b[0;32m     10\u001b[0m         sma20 \u001b[38;5;241m=\u001b[39m \u001b[38;5;28;01mlambda\u001b[39;00m x : x[\u001b[38;5;124m'\u001b[39m\u001b[38;5;124mClose\u001b[39m\u001b[38;5;124m'\u001b[39m]\u001b[38;5;241m.\u001b[39mrolling(window\u001b[38;5;241m=\u001b[39m\u001b[38;5;241m20\u001b[39m)\u001b[38;5;241m.\u001b[39mmean(),\n\u001b[0;32m     11\u001b[0m         sma50 \u001b[38;5;241m=\u001b[39m \u001b[38;5;28;01mlambda\u001b[39;00m x : x[\u001b[38;5;124m'\u001b[39m\u001b[38;5;124mClose\u001b[39m\u001b[38;5;124m'\u001b[39m]\u001b[38;5;241m.\u001b[39mrolling(window\u001b[38;5;241m=\u001b[39m\u001b[38;5;241m50\u001b[39m)\u001b[38;5;241m.\u001b[39mmean(),\n\u001b[0;32m     12\u001b[0m         sma100 \u001b[38;5;241m=\u001b[39m \u001b[38;5;28;01mlambda\u001b[39;00m x : x[\u001b[38;5;124m'\u001b[39m\u001b[38;5;124mClose\u001b[39m\u001b[38;5;124m'\u001b[39m]\u001b[38;5;241m.\u001b[39mrolling(window\u001b[38;5;241m=\u001b[39m\u001b[38;5;241m100\u001b[39m)\u001b[38;5;241m.\u001b[39mmean(),\n\u001b[0;32m     13\u001b[0m         sma200 \u001b[38;5;241m=\u001b[39m \u001b[38;5;28;01mlambda\u001b[39;00m x : x[\u001b[38;5;124m'\u001b[39m\u001b[38;5;124mClose\u001b[39m\u001b[38;5;124m'\u001b[39m]\u001b[38;5;241m.\u001b[39mrolling(window\u001b[38;5;241m=\u001b[39m\u001b[38;5;241m200\u001b[39m)\u001b[38;5;241m.\u001b[39mmean(),\n\u001b[0;32m     14\u001b[0m     )\n",
      "File \u001b[1;32mc:\\Users\\pacif\\anaconda3\\lib\\site-packages\\yfinance\\utils.py:107\u001b[0m, in \u001b[0;36mlog_indent_decorator.<locals>.wrapper\u001b[1;34m(*args, **kwargs)\u001b[0m\n\u001b[0;32m    104\u001b[0m logger\u001b[38;5;241m.\u001b[39mdebug(\u001b[38;5;124mf\u001b[39m\u001b[38;5;124m'\u001b[39m\u001b[38;5;124mEntering \u001b[39m\u001b[38;5;132;01m{\u001b[39;00mfunc\u001b[38;5;241m.\u001b[39m\u001b[38;5;18m__name__\u001b[39m\u001b[38;5;132;01m}\u001b[39;00m\u001b[38;5;124m()\u001b[39m\u001b[38;5;124m'\u001b[39m)\n\u001b[0;32m    106\u001b[0m \u001b[38;5;28;01mwith\u001b[39;00m IndentationContext():\n\u001b[1;32m--> 107\u001b[0m     result \u001b[38;5;241m=\u001b[39m func(\u001b[38;5;241m*\u001b[39margs, \u001b[38;5;241m*\u001b[39m\u001b[38;5;241m*\u001b[39mkwargs)\n\u001b[0;32m    109\u001b[0m logger\u001b[38;5;241m.\u001b[39mdebug(\u001b[38;5;124mf\u001b[39m\u001b[38;5;124m'\u001b[39m\u001b[38;5;124mExiting \u001b[39m\u001b[38;5;132;01m{\u001b[39;00mfunc\u001b[38;5;241m.\u001b[39m\u001b[38;5;18m__name__\u001b[39m\u001b[38;5;132;01m}\u001b[39;00m\u001b[38;5;124m()\u001b[39m\u001b[38;5;124m'\u001b[39m)\n\u001b[0;32m    110\u001b[0m \u001b[38;5;28;01mreturn\u001b[39;00m result\n",
      "File \u001b[1;32mc:\\Users\\pacif\\anaconda3\\lib\\site-packages\\yfinance\\base.py:193\u001b[0m, in \u001b[0;36mTickerBase.history\u001b[1;34m(self, period, interval, start, end, prepost, actions, auto_adjust, back_adjust, repair, keepna, proxy, rounding, timeout, debug, raise_errors)\u001b[0m\n\u001b[0;32m    190\u001b[0m params[\u001b[38;5;124m\"\u001b[39m\u001b[38;5;124mevents\u001b[39m\u001b[38;5;124m\"\u001b[39m] \u001b[38;5;241m=\u001b[39m \u001b[38;5;124m\"\u001b[39m\u001b[38;5;124mdiv,splits,capitalGains\u001b[39m\u001b[38;5;124m\"\u001b[39m\n\u001b[0;32m    192\u001b[0m params_pretty \u001b[38;5;241m=\u001b[39m \u001b[38;5;28mdict\u001b[39m(params)\n\u001b[1;32m--> 193\u001b[0m tz \u001b[38;5;241m=\u001b[39m \u001b[38;5;28;43mself\u001b[39;49m\u001b[38;5;241;43m.\u001b[39;49m\u001b[43m_get_ticker_tz\u001b[49m\u001b[43m(\u001b[49m\u001b[43mproxy\u001b[49m\u001b[43m,\u001b[49m\u001b[43m \u001b[49m\u001b[43mtimeout\u001b[49m\u001b[43m)\u001b[49m\n\u001b[0;32m    194\u001b[0m \u001b[38;5;28;01mfor\u001b[39;00m k \u001b[38;5;129;01min\u001b[39;00m [\u001b[38;5;124m\"\u001b[39m\u001b[38;5;124mperiod1\u001b[39m\u001b[38;5;124m\"\u001b[39m, \u001b[38;5;124m\"\u001b[39m\u001b[38;5;124mperiod2\u001b[39m\u001b[38;5;124m\"\u001b[39m]:\n\u001b[0;32m    195\u001b[0m     \u001b[38;5;28;01mif\u001b[39;00m k \u001b[38;5;129;01min\u001b[39;00m params_pretty:\n",
      "File \u001b[1;32mc:\\Users\\pacif\\anaconda3\\lib\\site-packages\\yfinance\\base.py:1407\u001b[0m, in \u001b[0;36mTickerBase._get_ticker_tz\u001b[1;34m(self, proxy, timeout)\u001b[0m\n\u001b[0;32m   1404\u001b[0m cache \u001b[38;5;241m=\u001b[39m utils\u001b[38;5;241m.\u001b[39mget_tz_cache()\n\u001b[0;32m   1405\u001b[0m tz \u001b[38;5;241m=\u001b[39m cache\u001b[38;5;241m.\u001b[39mlookup(\u001b[38;5;28mself\u001b[39m\u001b[38;5;241m.\u001b[39mticker)\n\u001b[1;32m-> 1407\u001b[0m \u001b[38;5;28;01mif\u001b[39;00m tz \u001b[38;5;129;01mand\u001b[39;00m \u001b[38;5;129;01mnot\u001b[39;00m \u001b[43mutils\u001b[49m\u001b[38;5;241;43m.\u001b[39;49m\u001b[43mis_valid_timezone\u001b[49m\u001b[43m(\u001b[49m\u001b[43mtz\u001b[49m\u001b[43m)\u001b[49m:\n\u001b[0;32m   1408\u001b[0m     \u001b[38;5;66;03m# Clear from cache and force re-fetch\u001b[39;00m\n\u001b[0;32m   1409\u001b[0m     cache\u001b[38;5;241m.\u001b[39mstore(\u001b[38;5;28mself\u001b[39m\u001b[38;5;241m.\u001b[39mticker, \u001b[38;5;28;01mNone\u001b[39;00m)\n\u001b[0;32m   1410\u001b[0m     tz \u001b[38;5;241m=\u001b[39m \u001b[38;5;28;01mNone\u001b[39;00m\n",
      "File \u001b[1;32mc:\\Users\\pacif\\anaconda3\\lib\\site-packages\\yfinance\\utils.py:783\u001b[0m, in \u001b[0;36mis_valid_timezone\u001b[1;34m(tz)\u001b[0m\n\u001b[0;32m    781\u001b[0m \u001b[38;5;28;01mdef\u001b[39;00m \u001b[38;5;21mis_valid_timezone\u001b[39m(tz: \u001b[38;5;28mstr\u001b[39m) \u001b[38;5;241m-\u001b[39m\u001b[38;5;241m>\u001b[39m \u001b[38;5;28mbool\u001b[39m:\n\u001b[0;32m    782\u001b[0m     \u001b[38;5;28;01mtry\u001b[39;00m:\n\u001b[1;32m--> 783\u001b[0m         \u001b[43m_tz\u001b[49m\u001b[38;5;241;43m.\u001b[39;49m\u001b[43mtimezone\u001b[49m\u001b[43m(\u001b[49m\u001b[43mtz\u001b[49m\u001b[43m)\u001b[49m\n\u001b[0;32m    784\u001b[0m     \u001b[38;5;28;01mexcept\u001b[39;00m UnknownTimeZoneError:\n\u001b[0;32m    785\u001b[0m         \u001b[38;5;28;01mreturn\u001b[39;00m \u001b[38;5;28;01mFalse\u001b[39;00m\n",
      "File \u001b[1;32mc:\\Users\\pacif\\anaconda3\\lib\\site-packages\\pytz\\__init__.py:181\u001b[0m, in \u001b[0;36mtimezone\u001b[1;34m(zone)\u001b[0m\n\u001b[0;32m    179\u001b[0m zone \u001b[38;5;241m=\u001b[39m _case_insensitive_zone_lookup(_unmunge_zone(zone))\n\u001b[0;32m    180\u001b[0m \u001b[38;5;28;01mif\u001b[39;00m zone \u001b[38;5;129;01mnot\u001b[39;00m \u001b[38;5;129;01min\u001b[39;00m _tzinfo_cache:\n\u001b[1;32m--> 181\u001b[0m     \u001b[38;5;28;01mif\u001b[39;00m \u001b[43mzone\u001b[49m\u001b[43m \u001b[49m\u001b[38;5;129;43;01min\u001b[39;49;00m\u001b[43m \u001b[49m\u001b[43mall_timezones_set\u001b[49m:  \u001b[38;5;66;03m# noqa\u001b[39;00m\n\u001b[0;32m    182\u001b[0m         fp \u001b[38;5;241m=\u001b[39m open_resource(zone)\n\u001b[0;32m    183\u001b[0m         \u001b[38;5;28;01mtry\u001b[39;00m:\n",
      "File \u001b[1;32mc:\\Users\\pacif\\anaconda3\\lib\\site-packages\\pytz\\lazy.py:154\u001b[0m, in \u001b[0;36mLazySet.__new__.<locals>.lazy.<locals>._lazy\u001b[1;34m(self, *args, **kw)\u001b[0m\n\u001b[0;32m    152\u001b[0m \u001b[38;5;28;01mtry\u001b[39;00m:\n\u001b[0;32m    153\u001b[0m     \u001b[38;5;28;01mif\u001b[39;00m \u001b[38;5;28mlen\u001b[39m(fill_iter) \u001b[38;5;241m>\u001b[39m \u001b[38;5;241m0\u001b[39m:\n\u001b[1;32m--> 154\u001b[0m         \u001b[38;5;28;01mfor\u001b[39;00m i \u001b[38;5;129;01min\u001b[39;00m fill_iter\u001b[38;5;241m.\u001b[39mpop():\n\u001b[0;32m    155\u001b[0m             \u001b[38;5;28mset\u001b[39m\u001b[38;5;241m.\u001b[39madd(\u001b[38;5;28mself\u001b[39m, i)\n\u001b[0;32m    156\u001b[0m         \u001b[38;5;28;01mfor\u001b[39;00m method_name \u001b[38;5;129;01min\u001b[39;00m \u001b[38;5;28mcls\u001b[39m\u001b[38;5;241m.\u001b[39m_props:\n",
      "File \u001b[1;32mc:\\Users\\pacif\\anaconda3\\lib\\site-packages\\pytz\\lazy.py:101\u001b[0m, in \u001b[0;36mLazyList.__new__.<locals>.lazy.<locals>._lazy\u001b[1;34m(self, *args, **kw)\u001b[0m\n\u001b[0;32m     99\u001b[0m \u001b[38;5;28;01mtry\u001b[39;00m:\n\u001b[0;32m    100\u001b[0m     \u001b[38;5;28;01mif\u001b[39;00m \u001b[38;5;28mlen\u001b[39m(fill_iter) \u001b[38;5;241m>\u001b[39m \u001b[38;5;241m0\u001b[39m:\n\u001b[1;32m--> 101\u001b[0m         \u001b[38;5;28;43mlist\u001b[39;49m\u001b[38;5;241;43m.\u001b[39;49m\u001b[43mextend\u001b[49m\u001b[43m(\u001b[49m\u001b[38;5;28;43mself\u001b[39;49m\u001b[43m,\u001b[49m\u001b[43m \u001b[49m\u001b[43mfill_iter\u001b[49m\u001b[38;5;241;43m.\u001b[39;49m\u001b[43mpop\u001b[49m\u001b[43m(\u001b[49m\u001b[43m)\u001b[49m\u001b[43m)\u001b[49m\n\u001b[0;32m    102\u001b[0m         \u001b[38;5;28;01mfor\u001b[39;00m method_name \u001b[38;5;129;01min\u001b[39;00m \u001b[38;5;28mcls\u001b[39m\u001b[38;5;241m.\u001b[39m_props:\n\u001b[0;32m    103\u001b[0m             \u001b[38;5;28mdelattr\u001b[39m(LazyList, method_name)\n",
      "File \u001b[1;32mc:\\Users\\pacif\\anaconda3\\lib\\site-packages\\pytz\\__init__.py:1117\u001b[0m, in \u001b[0;36m<genexpr>\u001b[1;34m(.0)\u001b[0m\n\u001b[0;32m    518\u001b[0m     _test()\n\u001b[0;32m    519\u001b[0m _all_timezones_unchecked \u001b[38;5;241m=\u001b[39m \\\n\u001b[0;32m    520\u001b[0m [\u001b[38;5;124m'\u001b[39m\u001b[38;5;124mAfrica/Abidjan\u001b[39m\u001b[38;5;124m'\u001b[39m,\n\u001b[0;32m    521\u001b[0m  \u001b[38;5;124m'\u001b[39m\u001b[38;5;124mAfrica/Accra\u001b[39m\u001b[38;5;124m'\u001b[39m,\n\u001b[1;32m   (...)\u001b[0m\n\u001b[0;32m   1114\u001b[0m  \u001b[38;5;124m'\u001b[39m\u001b[38;5;124mWET\u001b[39m\u001b[38;5;124m'\u001b[39m,\n\u001b[0;32m   1115\u001b[0m  \u001b[38;5;124m'\u001b[39m\u001b[38;5;124mZulu\u001b[39m\u001b[38;5;124m'\u001b[39m]\n\u001b[0;32m   1116\u001b[0m all_timezones \u001b[38;5;241m=\u001b[39m LazyList(\n\u001b[1;32m-> 1117\u001b[0m         tz \u001b[38;5;28;01mfor\u001b[39;00m tz \u001b[38;5;129;01min\u001b[39;00m _all_timezones_unchecked \u001b[38;5;28;01mif\u001b[39;00m \u001b[43mresource_exists\u001b[49m\u001b[43m(\u001b[49m\u001b[43mtz\u001b[49m\u001b[43m)\u001b[49m)\n\u001b[0;32m   1119\u001b[0m all_timezones_set \u001b[38;5;241m=\u001b[39m LazySet(all_timezones)\n\u001b[0;32m   1120\u001b[0m common_timezones \u001b[38;5;241m=\u001b[39m \\\n\u001b[0;32m   1121\u001b[0m [\u001b[38;5;124m'\u001b[39m\u001b[38;5;124mAfrica/Abidjan\u001b[39m\u001b[38;5;124m'\u001b[39m,\n\u001b[0;32m   1122\u001b[0m  \u001b[38;5;124m'\u001b[39m\u001b[38;5;124mAfrica/Accra\u001b[39m\u001b[38;5;124m'\u001b[39m,\n\u001b[1;32m   (...)\u001b[0m\n\u001b[0;32m   1553\u001b[0m  \u001b[38;5;124m'\u001b[39m\u001b[38;5;124mUS/Pacific\u001b[39m\u001b[38;5;124m'\u001b[39m,\n\u001b[0;32m   1554\u001b[0m  \u001b[38;5;124m'\u001b[39m\u001b[38;5;124mUTC\u001b[39m\u001b[38;5;124m'\u001b[39m]\n",
      "File \u001b[1;32mc:\\Users\\pacif\\anaconda3\\lib\\site-packages\\pytz\\__init__.py:121\u001b[0m, in \u001b[0;36mresource_exists\u001b[1;34m(name)\u001b[0m\n\u001b[0;32m    114\u001b[0m     \u001b[38;5;28;01mif\u001b[39;00m os\u001b[38;5;241m.\u001b[39menviron\u001b[38;5;241m.\u001b[39mget(\u001b[38;5;124m'\u001b[39m\u001b[38;5;124mPYTZ_SKIPEXISTSCHECK\u001b[39m\u001b[38;5;124m'\u001b[39m, \u001b[38;5;124m'\u001b[39m\u001b[38;5;124m'\u001b[39m):\n\u001b[0;32m    115\u001b[0m         \u001b[38;5;66;03m# In \"standard\" distributions, we can assume that\u001b[39;00m\n\u001b[0;32m    116\u001b[0m         \u001b[38;5;66;03m# all the listed timezones are present. As an\u001b[39;00m\n\u001b[0;32m    117\u001b[0m         \u001b[38;5;66;03m# import-speed optimization, you can set the\u001b[39;00m\n\u001b[0;32m    118\u001b[0m         \u001b[38;5;66;03m# PYTZ_SKIPEXISTSCHECK flag to skip checking\u001b[39;00m\n\u001b[0;32m    119\u001b[0m         \u001b[38;5;66;03m# for the presence of the resource file on disk.\u001b[39;00m\n\u001b[0;32m    120\u001b[0m         \u001b[38;5;28;01mreturn\u001b[39;00m \u001b[38;5;28;01mTrue\u001b[39;00m\n\u001b[1;32m--> 121\u001b[0m     \u001b[43mopen_resource\u001b[49m\u001b[43m(\u001b[49m\u001b[43mname\u001b[49m\u001b[43m)\u001b[49m\u001b[38;5;241m.\u001b[39mclose()\n\u001b[0;32m    122\u001b[0m     \u001b[38;5;28;01mreturn\u001b[39;00m \u001b[38;5;28;01mTrue\u001b[39;00m\n\u001b[0;32m    123\u001b[0m \u001b[38;5;28;01mexcept\u001b[39;00m \u001b[38;5;167;01mIOError\u001b[39;00m:\n",
      "File \u001b[1;32mc:\\Users\\pacif\\anaconda3\\lib\\site-packages\\pytz\\__init__.py:108\u001b[0m, in \u001b[0;36mopen_resource\u001b[1;34m(name)\u001b[0m\n\u001b[0;32m    106\u001b[0m         \u001b[38;5;28;01mif\u001b[39;00m resource_stream \u001b[38;5;129;01mis\u001b[39;00m \u001b[38;5;129;01mnot\u001b[39;00m \u001b[38;5;28;01mNone\u001b[39;00m:\n\u001b[0;32m    107\u001b[0m             \u001b[38;5;28;01mreturn\u001b[39;00m resource_stream(\u001b[38;5;18m__name__\u001b[39m, \u001b[38;5;124m'\u001b[39m\u001b[38;5;124mzoneinfo/\u001b[39m\u001b[38;5;124m'\u001b[39m \u001b[38;5;241m+\u001b[39m name)\n\u001b[1;32m--> 108\u001b[0m \u001b[38;5;28;01mreturn\u001b[39;00m \u001b[38;5;28;43mopen\u001b[39;49m\u001b[43m(\u001b[49m\u001b[43mfilename\u001b[49m\u001b[43m,\u001b[49m\u001b[43m \u001b[49m\u001b[38;5;124;43m'\u001b[39;49m\u001b[38;5;124;43mrb\u001b[39;49m\u001b[38;5;124;43m'\u001b[39;49m\u001b[43m)\u001b[49m\n",
      "\u001b[1;31mKeyboardInterrupt\u001b[0m: "
     ]
    }
   ],
   "source": [
    "symbol = 'VTI'\n",
    "period = '5y'\n",
    "\n",
    "def get_stock(s, p):\n",
    "    \"\"\"\n",
    "    Return stock data and received s(symbol), p(period), and sm(simple moving average)\n",
    "    \n",
    "    \"\"\"\n",
    "    return yf.Ticker(s).history(period= p).assign(\n",
    "        sma20 = lambda x : x['Close'].rolling(window=20).mean(),\n",
    "        sma50 = lambda x : x['Close'].rolling(window=50).mean(),\n",
    "        sma100 = lambda x : x['Close'].rolling(window=100).mean(),\n",
    "        sma200 = lambda x : x['Close'].rolling(window=200).mean(),\n",
    "    )\n",
    "df = get_stock(symbol, period)"
   ]
  },
  {
   "cell_type": "markdown",
   "metadata": {},
   "source": [
    "### EDA | Exploratory Data Analysis"
   ]
  },
  {
   "cell_type": "code",
   "execution_count": null,
   "metadata": {},
   "outputs": [
    {
     "data": {
      "text/html": [
       "<div>\n",
       "<style scoped>\n",
       "    .dataframe tbody tr th:only-of-type {\n",
       "        vertical-align: middle;\n",
       "    }\n",
       "\n",
       "    .dataframe tbody tr th {\n",
       "        vertical-align: top;\n",
       "    }\n",
       "\n",
       "    .dataframe thead th {\n",
       "        text-align: right;\n",
       "    }\n",
       "</style>\n",
       "<table border=\"1\" class=\"dataframe\">\n",
       "  <thead>\n",
       "    <tr style=\"text-align: right;\">\n",
       "      <th></th>\n",
       "      <th>Open</th>\n",
       "      <th>High</th>\n",
       "      <th>Low</th>\n",
       "      <th>Close</th>\n",
       "      <th>Volume</th>\n",
       "      <th>Dividends</th>\n",
       "      <th>Stock Splits</th>\n",
       "      <th>Capital Gains</th>\n",
       "      <th>sma20</th>\n",
       "      <th>sma50</th>\n",
       "      <th>sma100</th>\n",
       "      <th>sma200</th>\n",
       "    </tr>\n",
       "    <tr>\n",
       "      <th>Date</th>\n",
       "      <th></th>\n",
       "      <th></th>\n",
       "      <th></th>\n",
       "      <th></th>\n",
       "      <th></th>\n",
       "      <th></th>\n",
       "      <th></th>\n",
       "      <th></th>\n",
       "      <th></th>\n",
       "      <th></th>\n",
       "      <th></th>\n",
       "      <th></th>\n",
       "    </tr>\n",
       "  </thead>\n",
       "  <tbody>\n",
       "    <tr>\n",
       "      <th>2019-02-28 00:00:00-05:00</th>\n",
       "      <td>132.373132</td>\n",
       "      <td>132.603506</td>\n",
       "      <td>132.069050</td>\n",
       "      <td>132.198059</td>\n",
       "      <td>2275100</td>\n",
       "      <td>0.0</td>\n",
       "      <td>0.0</td>\n",
       "      <td>0.0</td>\n",
       "      <td>NaN</td>\n",
       "      <td>NaN</td>\n",
       "      <td>NaN</td>\n",
       "      <td>NaN</td>\n",
       "    </tr>\n",
       "    <tr>\n",
       "      <th>2019-03-01 00:00:00-05:00</th>\n",
       "      <td>133.045818</td>\n",
       "      <td>133.248549</td>\n",
       "      <td>132.234896</td>\n",
       "      <td>133.082672</td>\n",
       "      <td>2985100</td>\n",
       "      <td>0.0</td>\n",
       "      <td>0.0</td>\n",
       "      <td>0.0</td>\n",
       "      <td>NaN</td>\n",
       "      <td>NaN</td>\n",
       "      <td>NaN</td>\n",
       "      <td>NaN</td>\n",
       "    </tr>\n",
       "    <tr>\n",
       "      <th>2019-03-04 00:00:00-05:00</th>\n",
       "      <td>133.617174</td>\n",
       "      <td>133.644818</td>\n",
       "      <td>131.239708</td>\n",
       "      <td>132.465302</td>\n",
       "      <td>3555400</td>\n",
       "      <td>0.0</td>\n",
       "      <td>0.0</td>\n",
       "      <td>0.0</td>\n",
       "      <td>NaN</td>\n",
       "      <td>NaN</td>\n",
       "      <td>NaN</td>\n",
       "      <td>NaN</td>\n",
       "    </tr>\n",
       "  </tbody>\n",
       "</table>\n",
       "</div>"
      ],
      "text/plain": [
       "                                 Open        High         Low       Close  \\\n",
       "Date                                                                        \n",
       "2019-02-28 00:00:00-05:00  132.373132  132.603506  132.069050  132.198059   \n",
       "2019-03-01 00:00:00-05:00  133.045818  133.248549  132.234896  133.082672   \n",
       "2019-03-04 00:00:00-05:00  133.617174  133.644818  131.239708  132.465302   \n",
       "\n",
       "                            Volume  Dividends  Stock Splits  Capital Gains  \\\n",
       "Date                                                                         \n",
       "2019-02-28 00:00:00-05:00  2275100        0.0           0.0            0.0   \n",
       "2019-03-01 00:00:00-05:00  2985100        0.0           0.0            0.0   \n",
       "2019-03-04 00:00:00-05:00  3555400        0.0           0.0            0.0   \n",
       "\n",
       "                           sma20  sma50  sma100  sma200  \n",
       "Date                                                     \n",
       "2019-02-28 00:00:00-05:00    NaN    NaN     NaN     NaN  \n",
       "2019-03-01 00:00:00-05:00    NaN    NaN     NaN     NaN  \n",
       "2019-03-04 00:00:00-05:00    NaN    NaN     NaN     NaN  "
      ]
     },
     "execution_count": 3,
     "metadata": {},
     "output_type": "execute_result"
    }
   ],
   "source": [
    "# view column \n",
    "df.head(3)"
   ]
  },
  {
   "cell_type": "code",
   "execution_count": null,
   "metadata": {},
   "outputs": [
    {
     "data": {
      "text/plain": [
       "count    1260.000000\n",
       "mean      186.885938\n",
       "std        33.611072\n",
       "min       105.111679\n",
       "25%       154.305515\n",
       "50%       194.925865\n",
       "75%       214.900505\n",
       "max       252.000000\n",
       "Name: Close, dtype: float64"
      ]
     },
     "execution_count": 4,
     "metadata": {},
     "output_type": "execute_result"
    }
   ],
   "source": [
    "df['Close'].describe()"
   ]
  },
  {
   "cell_type": "code",
   "execution_count": null,
   "metadata": {},
   "outputs": [],
   "source": [
    "def yearly_return_percentage(stock_data):\n",
    "    \"\"\"\n",
    "    Takes in a stock data DataFrame and returns a DataFrame of Year | Gain/Loss.\\n \n",
    "    Note that this calculation does not take into account any income generated from the investment, such as dividends or interest payments.\n",
    "    \"\"\"\n",
    "\n",
    "    _returns = []\n",
    "\n",
    "    for year in np.unique(stock_data.index.year):\n",
    "\n",
    "        # get yearly data\n",
    "        _df = stock_data.loc[df.index.year == year]\n",
    "        _start = _df.iloc[0].Close\n",
    "        _end = _df.iloc[len(_df) - 1].Close\n",
    "\n",
    "        # calculate year return's percentage\n",
    "        _returns.append({\n",
    "            \"Year\": year,\n",
    "            \"Gain/Loss\": ((_end - _start) / _start) * 100,\n",
    "        })\n",
    "\n",
    "    return pd.DataFrame( _returns)"
   ]
  },
  {
   "cell_type": "code",
   "execution_count": null,
   "metadata": {},
   "outputs": [
    {
     "name": "stdout",
     "output_type": "stream",
     "text": [
      "VTI 5y Yearly return\n"
     ]
    },
    {
     "data": {
      "text/html": [
       "<div>\n",
       "<style scoped>\n",
       "    .dataframe tbody tr th:only-of-type {\n",
       "        vertical-align: middle;\n",
       "    }\n",
       "\n",
       "    .dataframe tbody tr th {\n",
       "        vertical-align: top;\n",
       "    }\n",
       "\n",
       "    .dataframe thead th {\n",
       "        text-align: right;\n",
       "    }\n",
       "</style>\n",
       "<table border=\"1\" class=\"dataframe\">\n",
       "  <thead>\n",
       "    <tr style=\"text-align: right;\">\n",
       "      <th></th>\n",
       "      <th>Year</th>\n",
       "      <th>Gain/Loss</th>\n",
       "    </tr>\n",
       "  </thead>\n",
       "  <tbody>\n",
       "    <tr>\n",
       "      <th>0</th>\n",
       "      <td>2019</td>\n",
       "      <td>16.250087</td>\n",
       "    </tr>\n",
       "    <tr>\n",
       "      <th>1</th>\n",
       "      <td>2020</td>\n",
       "      <td>20.078066</td>\n",
       "    </tr>\n",
       "    <tr>\n",
       "      <th>2</th>\n",
       "      <td>2021</td>\n",
       "      <td>27.496330</td>\n",
       "    </tr>\n",
       "    <tr>\n",
       "      <th>3</th>\n",
       "      <td>2022</td>\n",
       "      <td>-20.030212</td>\n",
       "    </tr>\n",
       "    <tr>\n",
       "      <th>4</th>\n",
       "      <td>2023</td>\n",
       "      <td>26.563312</td>\n",
       "    </tr>\n",
       "    <tr>\n",
       "      <th>5</th>\n",
       "      <td>2024</td>\n",
       "      <td>6.591644</td>\n",
       "    </tr>\n",
       "  </tbody>\n",
       "</table>\n",
       "</div>"
      ],
      "text/plain": [
       "   Year  Gain/Loss\n",
       "0  2019  16.250087\n",
       "1  2020  20.078066\n",
       "2  2021  27.496330\n",
       "3  2022 -20.030212\n",
       "4  2023  26.563312\n",
       "5  2024   6.591644"
      ]
     },
     "execution_count": 6,
     "metadata": {},
     "output_type": "execute_result"
    }
   ],
   "source": [
    "# show yearly return\n",
    "print(f\"{symbol} {period} Yearly return\")\n",
    "yearly_return_percentage(df)"
   ]
  },
  {
   "cell_type": "code",
   "execution_count": null,
   "metadata": {},
   "outputs": [
    {
     "name": "stdout",
     "output_type": "stream",
     "text": [
      "Yearly return average based on 5years of investment.\n"
     ]
    }
   ],
   "source": [
    "if period != '1y':\n",
    "    print(f\"Yearly return average based on {period.replace('y', 'years')} of investment.\")\n",
    "elif  period == 'max':\n",
    "    print(f\"Yearly return average based on {period.replace('y', 'years')} of investment.\")\n",
    "else:\n",
    "    print(f\"Yearly return average based on {period.replace('y', 'year')} of investment.\")\n",
    "\n",
    "_return_avg = np.round(yearly_return_percentage(df)[\"Gain/Loss\"].mean(), decimals=2)\n",
    "_return_std = np.round(yearly_return_percentage(df)[\"Gain/Loss\"].std(), decimals=2)"
   ]
  },
  {
   "cell_type": "code",
   "execution_count": null,
   "metadata": {},
   "outputs": [],
   "source": []
  },
  {
   "cell_type": "code",
   "execution_count": null,
   "metadata": {},
   "outputs": [],
   "source": [
    "# display the close price's distribution\n",
    "# fig = px.histogram(df, x='Close', nbins=20)\n",
    "# fig.show()"
   ]
  },
  {
   "cell_type": "markdown",
   "metadata": {},
   "source": [
    "### Market Analysis"
   ]
  },
  {
   "cell_type": "code",
   "execution_count": null,
   "metadata": {},
   "outputs": [],
   "source": [
    "# def create_title(title, size, color=''):\n",
    "#     return dict(title = {\n",
    "#         \"text\": title,\n",
    "#         \"font\": {\"color\": color, \"size\": size},\n",
    "#     })\n",
    "\n",
    "# fig = go.Figure()\n",
    "# fig.add_trace(go.Scatter(x=df.index, y=df[\"Close\"], name=\"Close\"))\n",
    "# fig.add_trace(go.Scatter(x=df.index, y=df[\"sma20\"], name=\"SM 20\"))\n",
    "# fig.add_trace(go.Scatter(x=df.index, y=df[\"sma50\"], name=\"SM 50\"))\n",
    "\n",
    "# fig.update_layout(create_title(f\"{symbol} - {period} STOCK ANALYSIS\", 24, \"green\"))\n",
    "# fig.update_legends(create_title(f\"Market\", 14, \"green\"))\n",
    "\n",
    "# fig.show()"
   ]
  },
  {
   "cell_type": "code",
   "execution_count": null,
   "metadata": {},
   "outputs": [],
   "source": [
    "def draw_figure(df, fig, title):\n",
    "    fig.update_layout(create_title(title, 24, \"green\"))\n",
    "    fig.add_trace(go.Scatter(x=df.index, y=df[\"Close\"], name=\"Close\"))\n",
    "    # fig.update_layout(template=\"plotly_dark\")\n",
    "    return fig"
   ]
  },
  {
   "cell_type": "code",
   "execution_count": null,
   "metadata": {},
   "outputs": [
    {
     "data": {
      "text/plain": [
       "datetime.date(2019, 2, 28)"
      ]
     },
     "execution_count": 11,
     "metadata": {},
     "output_type": "execute_result"
    }
   ],
   "source": [
    "date = df.iloc[0].name.date()\n",
    "# date.strftime('%Y/%m/%d')\n",
    "date"
   ]
  },
  {
   "cell_type": "code",
   "execution_count": null,
   "metadata": {},
   "outputs": [],
   "source": [
    "def card_creator(html):\n",
    "    import dash_bootstrap_components as dbc\n",
    "    return dbc.Card(\n",
    "        [\n",
    "            dbc.CardBody(\n",
    "                [\n",
    "                    html.H4(\n",
    "                        id=\"price\",\n",
    "                        className=\"card-title display-4\",\n",
    "                    ),\n",
    "                    html.P(\"Start Price\", className=\"card-text\"),\n",
    "                ]\n",
    "            )\n",
    "        ],\n",
    "        className=\"mb-2\",\n",
    "    )"
   ]
  },
  {
   "cell_type": "code",
   "execution_count": null,
   "metadata": {},
   "outputs": [],
   "source": [
    "\n",
    "\n",
    "import plotly.io as pio\n",
    "\n",
    "\n",
    "# app = Dash(external_stylesheets=[dbc.themes.CERULEAN])\n",
    "\n",
    "\n",
    "# def card(value, title):\n",
    "#     return dbc.Col(\n",
    "#         dmc.Paper(\n",
    "#             children=[\n",
    "#                 dbc.Card(\n",
    "#                     [\n",
    "#                         # dbc.CardImg(src=\"/static/images/placeholder286x180.png\", top=True),\n",
    "#                         dbc.CardBody(\n",
    "#                             [\n",
    "#                                 html.H4(value, className=\"card-title display-4\"),\n",
    "#                                 html.P(\n",
    "#                                     title,\n",
    "#                                     className=\"card-text\",\n",
    "#                                 ),\n",
    "#                                 # dbc.Button(\"Go somewhere\", color=\"primary\"),\n",
    "#                             ]\n",
    "#                         ),\n",
    "#                     ],\n",
    "#                     # style={\"width\": \"18rem\"},\n",
    "#                     className=\"mb-2\",\n",
    "#                 )\n",
    "#             ],\n",
    "#             shadow=\"xs\",\n",
    "#         )\n",
    "#     )\n",
    "\n",
    "\n",
    "# app.layout = dbc.Container(\n",
    "#     children=[\n",
    "#         html.H1(\"Stock Analysis Dashboard\", className=\"display-4 mb-4\"),\n",
    "#         dbc.Row(\n",
    "#             [\n",
    "#                 dbc.Col(\n",
    "#                     dmc.Paper(\n",
    "#                         # list of cards\n",
    "#                         children=[],\n",
    "#                         shadow=\"xs\",\n",
    "#                     )\n",
    "#                 ),\n",
    "#                 # card(\n",
    "#                 #     f\"${np.round(df.iloc[len(df)-1].Close, decimals=2)}\",\n",
    "#                 #     f\"Current Price | {df.iloc[len(df)-1].name.strftime('%Y/%m/%d')}\",\n",
    "#                 # ),\n",
    "#                 # card(f\"{_return_std}\", f\"Risk | standard deviation\"),\n",
    "#                 # card(f\"{_return_avg}%\", \"Average Gain/Loss\"),\n",
    "#             ]\n",
    "#         ),\n",
    "#         dcc.Graph(id=\"figure\"),\n",
    "#         html.Button(\"1Y\", id=\"1y\", n_clicks=0, className=\"btn\"),\n",
    "#         html.Button(\"5Y\", id=\"5y\", n_clicks=0, className=\"btn\"),\n",
    "#         html.Button(\"10Y\", id=\"10y\", n_clicks=0, className=\"btn\"),\n",
    "#         html.Button(\"All\", id=\"max\", n_clicks=0, className=\"btn\"),\n",
    "#         # dmc.CheckboxGroup(\n",
    "#         #     id=\"checkbox-group\",\n",
    "#         #     label=\"Select your favorite framework/library\",\n",
    "#         #     description=\"This is anonymous\",\n",
    "#         #     orientation=\"horizontal\",\n",
    "#         #     withAsterisk=True,\n",
    "#         #     offset=\"md\",\n",
    "#         #     mb=10,\n",
    "#         #     children=[\n",
    "#         #         dmc.Checkbox(label=\"React\", value=\"react\"),\n",
    "#         #         dmc.Checkbox(label=\"Vue\", value=\"vue\"),\n",
    "#         #         dmc.Checkbox(label=\"Svelte\", value=\"svelte\"),\n",
    "#         #         dmc.Checkbox(label=\"Angular\", value=\"angular\"),\n",
    "#         #     ],\n",
    "#         #     value=[],\n",
    "#         # ),\n",
    "#         # dmc.Text(id=\"checkbox-group-output\"),\n",
    "#         # html.Div(id=\"msg\"),\n",
    "#     ],\n",
    "# )\n",
    "\n",
    "\n",
    "# @app.callback(\n",
    "#     Output(component_id=\"figure\", component_property=\"figure\"),\n",
    "#     Output(component_id=\"price\", component_property=\"children\"),\n",
    "#     [\n",
    "#         Input(component_id=\"1y\", component_property=\"n_clicks\"),\n",
    "#         Input(component_id=\"5y\", component_property=\"n_clicks\"),\n",
    "#         Input(component_id=\"10y\", component_property=\"n_clicks\"),\n",
    "#         Input(component_id=\"max\", component_property=\"n_clicks\"),\n",
    "#     ],\n",
    "# )\n",
    "# def index(btn1, btn2, btn3, btn4):\n",
    "#     fig = go.Figure()\n",
    "\n",
    "#     button_id = ctx.triggered[0][\"prop_id\"].split(\".\")[0]\n",
    "\n",
    "#     print(f\"print button id: {button_id}\")\n",
    "\n",
    "#     if button_id == \"\":\n",
    "#         button_id = '1y'\n",
    "\n",
    "#     df = get_stock(symbol, button_id)\n",
    "\n",
    "#     fig.update_layout(title=f\"{symbol} ({button_id}) - PERFORMANCE CHART\")\n",
    "#     fig.add_trace(go.Scatter(x=df.index, y=df[\"Close\"], name=\"Close\"))\n",
    "\n",
    "#     # price = f\"${np.round(df.iloc[0].Close, decimals=2)}\" #, f\"Start Price | {df.iloc[0].name.strftime('%Y/%m/%d')}\"\n",
    "\n",
    "#     return fig\n",
    "\n",
    "\n",
    "\n",
    "\n",
    "# app.run_server()"
   ]
  },
  {
   "cell_type": "code",
   "execution_count": null,
   "metadata": {},
   "outputs": [],
   "source": []
  },
  {
   "cell_type": "code",
   "execution_count": null,
   "metadata": {},
   "outputs": [],
   "source": []
  }
 ],
 "metadata": {
  "kernelspec": {
   "display_name": "base",
   "language": "python",
   "name": "python3"
  },
  "language_info": {
   "codemirror_mode": {
    "name": "ipython",
    "version": 3
   },
   "file_extension": ".py",
   "mimetype": "text/x-python",
   "name": "python",
   "nbconvert_exporter": "python",
   "pygments_lexer": "ipython3",
   "version": "3.10.9"
  }
 },
 "nbformat": 4,
 "nbformat_minor": 2
}
