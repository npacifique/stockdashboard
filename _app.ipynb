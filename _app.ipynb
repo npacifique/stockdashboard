{
 "cells": [
  {
   "cell_type": "code",
   "execution_count": 2,
   "metadata": {},
   "outputs": [
    {
     "data": {
      "text/html": [
       "<div>\n",
       "<style scoped>\n",
       "    .dataframe tbody tr th:only-of-type {\n",
       "        vertical-align: middle;\n",
       "    }\n",
       "\n",
       "    .dataframe tbody tr th {\n",
       "        vertical-align: top;\n",
       "    }\n",
       "\n",
       "    .dataframe thead th {\n",
       "        text-align: right;\n",
       "    }\n",
       "</style>\n",
       "<table border=\"1\" class=\"dataframe\">\n",
       "  <thead>\n",
       "    <tr style=\"text-align: right;\">\n",
       "      <th></th>\n",
       "      <th>Open</th>\n",
       "      <th>High</th>\n",
       "      <th>Low</th>\n",
       "      <th>Close</th>\n",
       "      <th>Volume</th>\n",
       "      <th>Dividends</th>\n",
       "      <th>Stock Splits</th>\n",
       "      <th>Capital Gains</th>\n",
       "    </tr>\n",
       "    <tr>\n",
       "      <th>Date</th>\n",
       "      <th></th>\n",
       "      <th></th>\n",
       "      <th></th>\n",
       "      <th></th>\n",
       "      <th></th>\n",
       "      <th></th>\n",
       "      <th></th>\n",
       "      <th></th>\n",
       "    </tr>\n",
       "  </thead>\n",
       "  <tbody>\n",
       "    <tr>\n",
       "      <th>2023-03-09 00:00:00-05:00</th>\n",
       "      <td>197.659381</td>\n",
       "      <td>198.594519</td>\n",
       "      <td>193.052571</td>\n",
       "      <td>193.495544</td>\n",
       "      <td>2974300</td>\n",
       "      <td>0.0</td>\n",
       "      <td>0.0</td>\n",
       "      <td>0.0</td>\n",
       "    </tr>\n",
       "    <tr>\n",
       "      <th>2023-03-10 00:00:00-05:00</th>\n",
       "      <td>193.180545</td>\n",
       "      <td>193.918814</td>\n",
       "      <td>189.252945</td>\n",
       "      <td>190.237305</td>\n",
       "      <td>6310500</td>\n",
       "      <td>0.0</td>\n",
       "      <td>0.0</td>\n",
       "      <td>0.0</td>\n",
       "    </tr>\n",
       "    <tr>\n",
       "      <th>2023-03-13 00:00:00-04:00</th>\n",
       "      <td>187.914201</td>\n",
       "      <td>192.107581</td>\n",
       "      <td>187.205461</td>\n",
       "      <td>189.449814</td>\n",
       "      <td>6253700</td>\n",
       "      <td>0.0</td>\n",
       "      <td>0.0</td>\n",
       "      <td>0.0</td>\n",
       "    </tr>\n",
       "    <tr>\n",
       "      <th>2023-03-14 00:00:00-04:00</th>\n",
       "      <td>192.442272</td>\n",
       "      <td>193.869590</td>\n",
       "      <td>190.542466</td>\n",
       "      <td>192.826172</td>\n",
       "      <td>4473800</td>\n",
       "      <td>0.0</td>\n",
       "      <td>0.0</td>\n",
       "      <td>0.0</td>\n",
       "    </tr>\n",
       "    <tr>\n",
       "      <th>2023-03-15 00:00:00-04:00</th>\n",
       "      <td>189.617184</td>\n",
       "      <td>191.359490</td>\n",
       "      <td>188.534383</td>\n",
       "      <td>191.339813</td>\n",
       "      <td>3855400</td>\n",
       "      <td>0.0</td>\n",
       "      <td>0.0</td>\n",
       "      <td>0.0</td>\n",
       "    </tr>\n",
       "    <tr>\n",
       "      <th>...</th>\n",
       "      <td>...</td>\n",
       "      <td>...</td>\n",
       "      <td>...</td>\n",
       "      <td>...</td>\n",
       "      <td>...</td>\n",
       "      <td>...</td>\n",
       "      <td>...</td>\n",
       "      <td>...</td>\n",
       "    </tr>\n",
       "    <tr>\n",
       "      <th>2024-03-04 00:00:00-05:00</th>\n",
       "      <td>254.779999</td>\n",
       "      <td>255.580002</td>\n",
       "      <td>254.529999</td>\n",
       "      <td>254.649994</td>\n",
       "      <td>4966800</td>\n",
       "      <td>0.0</td>\n",
       "      <td>0.0</td>\n",
       "      <td>0.0</td>\n",
       "    </tr>\n",
       "    <tr>\n",
       "      <th>2024-03-05 00:00:00-05:00</th>\n",
       "      <td>253.679993</td>\n",
       "      <td>253.860001</td>\n",
       "      <td>250.910004</td>\n",
       "      <td>251.949997</td>\n",
       "      <td>3134800</td>\n",
       "      <td>0.0</td>\n",
       "      <td>0.0</td>\n",
       "      <td>0.0</td>\n",
       "    </tr>\n",
       "    <tr>\n",
       "      <th>2024-03-06 00:00:00-05:00</th>\n",
       "      <td>253.869995</td>\n",
       "      <td>254.509995</td>\n",
       "      <td>252.679993</td>\n",
       "      <td>253.440002</td>\n",
       "      <td>2501700</td>\n",
       "      <td>0.0</td>\n",
       "      <td>0.0</td>\n",
       "      <td>0.0</td>\n",
       "    </tr>\n",
       "    <tr>\n",
       "      <th>2024-03-07 00:00:00-05:00</th>\n",
       "      <td>255.000000</td>\n",
       "      <td>256.369995</td>\n",
       "      <td>254.649994</td>\n",
       "      <td>255.910004</td>\n",
       "      <td>2940900</td>\n",
       "      <td>0.0</td>\n",
       "      <td>0.0</td>\n",
       "      <td>0.0</td>\n",
       "    </tr>\n",
       "    <tr>\n",
       "      <th>2024-03-08 00:00:00-05:00</th>\n",
       "      <td>256.420013</td>\n",
       "      <td>257.709991</td>\n",
       "      <td>254.039993</td>\n",
       "      <td>254.429993</td>\n",
       "      <td>3671100</td>\n",
       "      <td>0.0</td>\n",
       "      <td>0.0</td>\n",
       "      <td>0.0</td>\n",
       "    </tr>\n",
       "  </tbody>\n",
       "</table>\n",
       "<p>252 rows × 8 columns</p>\n",
       "</div>"
      ],
      "text/plain": [
       "                                 Open        High         Low       Close  \\\n",
       "Date                                                                        \n",
       "2023-03-09 00:00:00-05:00  197.659381  198.594519  193.052571  193.495544   \n",
       "2023-03-10 00:00:00-05:00  193.180545  193.918814  189.252945  190.237305   \n",
       "2023-03-13 00:00:00-04:00  187.914201  192.107581  187.205461  189.449814   \n",
       "2023-03-14 00:00:00-04:00  192.442272  193.869590  190.542466  192.826172   \n",
       "2023-03-15 00:00:00-04:00  189.617184  191.359490  188.534383  191.339813   \n",
       "...                               ...         ...         ...         ...   \n",
       "2024-03-04 00:00:00-05:00  254.779999  255.580002  254.529999  254.649994   \n",
       "2024-03-05 00:00:00-05:00  253.679993  253.860001  250.910004  251.949997   \n",
       "2024-03-06 00:00:00-05:00  253.869995  254.509995  252.679993  253.440002   \n",
       "2024-03-07 00:00:00-05:00  255.000000  256.369995  254.649994  255.910004   \n",
       "2024-03-08 00:00:00-05:00  256.420013  257.709991  254.039993  254.429993   \n",
       "\n",
       "                            Volume  Dividends  Stock Splits  Capital Gains  \n",
       "Date                                                                        \n",
       "2023-03-09 00:00:00-05:00  2974300        0.0           0.0            0.0  \n",
       "2023-03-10 00:00:00-05:00  6310500        0.0           0.0            0.0  \n",
       "2023-03-13 00:00:00-04:00  6253700        0.0           0.0            0.0  \n",
       "2023-03-14 00:00:00-04:00  4473800        0.0           0.0            0.0  \n",
       "2023-03-15 00:00:00-04:00  3855400        0.0           0.0            0.0  \n",
       "...                            ...        ...           ...            ...  \n",
       "2024-03-04 00:00:00-05:00  4966800        0.0           0.0            0.0  \n",
       "2024-03-05 00:00:00-05:00  3134800        0.0           0.0            0.0  \n",
       "2024-03-06 00:00:00-05:00  2501700        0.0           0.0            0.0  \n",
       "2024-03-07 00:00:00-05:00  2940900        0.0           0.0            0.0  \n",
       "2024-03-08 00:00:00-05:00  3671100        0.0           0.0            0.0  \n",
       "\n",
       "[252 rows x 8 columns]"
      ]
     },
     "execution_count": 2,
     "metadata": {},
     "output_type": "execute_result"
    }
   ],
   "source": [
    "import yfinance as yf\n",
    "import plotly.graph_objects as go\n",
    "\n",
    "# df = yf.Ticker(\"VTI\").history(period=\"7d\", interval='1d')\n",
    "df = yf.Ticker(\"VTI\").history(period=\"1y\", interval='1d')\n",
    "\n",
    "\n",
    "def draw_figure(data):\n",
    "    fig = go.Figure()\n",
    "    fig.add_trace(go.Scatter(y=data[\"Close\"], x=data.index))\n",
    "    fig.update_layout(margin={\"t\": 0, \"l\": 10, \"b\": 0, \"r\": 10} ) #,  template ='plotly_dark')\n",
    "    return fig\n",
    "df"
   ]
  },
  {
   "cell_type": "code",
   "execution_count": 16,
   "metadata": {},
   "outputs": [],
   "source": [
    "import datetime\n",
    "#Date(df.iloc[0].name)"
   ]
  },
  {
   "cell_type": "code",
   "execution_count": 2,
   "metadata": {},
   "outputs": [],
   "source": [
    "import pandas as pd\n",
    "import numpy as np\n",
    "\n",
    "def get_return(data):\n",
    "    _gains = []\n",
    "    for y in np.unique(data.index.year):\n",
    "\n",
    "        _data = data.loc[data.index.year == y]\n",
    "        _min = _data[\"Close\"].min()\n",
    "        _max = _data[\"Close\"].max()\n",
    "        _std = _data[\"Close\"].std()\n",
    "        _avg = _data[\"Close\"].mean()\n",
    "        _gain = f'{((_data.iloc[len(_data)-1][\"Close\"] - _data.iloc[0][\"Close\"]) /_data.iloc[len(_data)-1][\"Close\"] * 100).round(2)}%'\n",
    "        _gains.append(\n",
    "            {\n",
    "                \"Year\": y,\n",
    "                \"Min\": np.round(_min, decimals=2),\n",
    "                \"Max\": np.round(_max, decimals=2),\n",
    "                \"Standard deviation\": np.round(_std, decimals=2),\n",
    "                \"Price Avg\": np.round(_avg, decimals=2),\n",
    "                \"Gain/Loss\": _gain,\n",
    "            }\n",
    "        )\n",
    "\n",
    "    return pd.DataFrame(_gains)"
   ]
  },
  {
   "cell_type": "code",
   "execution_count": 3,
   "metadata": {},
   "outputs": [],
   "source": [
    "def generate_button(html):\n",
    "    \"generates buttons based on an array of button ids\"\n",
    "    return [ \n",
    "                html.Button(str(i).upper(),id=i, n_clicks=0,className=\"btn btn-sm\", style={\"marginRight\": \"8px\"}) # return button element for each id\n",
    "                for i in [\"5d\", \"1mo\", \"3mo\", \"6mo\", \"1y\", \"2y\", \"5y\", \"10y\", \"ytd\", \"max\"]\n",
    "            ]\n",
    "\n"
   ]
  },
  {
   "cell_type": "code",
   "execution_count": 4,
   "metadata": {},
   "outputs": [],
   "source": [
    "def chart_data(html, dbc, dcc):\n",
    "    return (\n",
    "        dbc.Card(\n",
    "            [\n",
    "                # display symbol input form in the card header\n",
    "                dbc.CardHeader(\n",
    "                    [\n",
    "                        html.Div(\n",
    "                            [\n",
    "                                html.P(\n",
    "                                    f\"This dynamic chart showcases the trends of the selected stocks over the chosen period, visually presenting the performance of the stock at a glance. It aids in making informed investment decisions by highlighting trends.\"\n",
    "                                ),\n",
    "                                html.Div(\n",
    "                                    [\n",
    "                                        html.Div(\n",
    "                                            [\n",
    "                                                dcc.Input(\n",
    "                                                    id=\"symbol\",\n",
    "                                                    value=\"VTI\",\n",
    "                                                    type=\"text\",\n",
    "                                                    placeholder=\"Symbol\",\n",
    "                                                    className=\"form-control form-control-sm\",\n",
    "                                                ),\n",
    "                                            ],\n",
    "                                            className=\"col-3\",\n",
    "                                            style={\"margin\": \"0px\"},\n",
    "                                        ),\n",
    "                                        html.Div(\n",
    "                                            [\n",
    "                                                html.Button(\n",
    "                                                    \"Find\",\n",
    "                                                    id=\"find\",\n",
    "                                                    n_clicks=0,\n",
    "                                                    className=\"btn btn-primary btn-sm\",\n",
    "                                                )\n",
    "                                            ],\n",
    "                                            className=\"col\",\n",
    "                                            style={\"margin-left\": \"-20px\"},\n",
    "                                        ),\n",
    "                                    ],\n",
    "                                    className=\"row\",\n",
    "                                ),\n",
    "                                #\n",
    "                                html.P(id=\"error_id\", className=\"text-danger\"),\n",
    "                            ],\n",
    "                            className=\"mb-2\",\n",
    "                        ),\n",
    "                    ]\n",
    "                ),\n",
    "                # display figure in the card body\n",
    "                dbc.CardBody(\n",
    "                    [\n",
    "                        dcc.Graph(id=\"graph\"),\n",
    "                    ],\n",
    "                ),\n",
    "                # display period selector in the card footer\n",
    "                dbc.CardFooter(\n",
    "                    [\n",
    "                        html.Div(\n",
    "                            generate_button(html),\n",
    "                            style={\"margin\": \"20px\"},\n",
    "                        ),\n",
    "                    ]\n",
    "                ),\n",
    "            ]\n",
    "        ),\n",
    "    )"
   ]
  },
  {
   "cell_type": "code",
   "execution_count": 5,
   "metadata": {},
   "outputs": [],
   "source": [
    "def performance_tab_table(html,dbc):\n",
    "    \"\"\"\n",
    "    Return the template used for the performance tab. Takes html and dbc\n",
    "    \"\"\"\n",
    "    return (\n",
    "        dbc.Card(\n",
    "            [\n",
    "                dbc.CardHeader(\n",
    "                    [\n",
    "                        html.P(\n",
    "                            \"This table presents a comprehensive analysis of the selected stock. It offers statistical details by aggregating the stock price to statically describe the trends shown in the chart.\"\n",
    "                        )\n",
    "                    ]\n",
    "                ),\n",
    "                dbc.CardBody(\n",
    "                    [\n",
    "                        html.Div(id=\"table-container\"),\n",
    "                    ]\n",
    "                ),\n",
    "            ]\n",
    "        ),\n",
    "    )"
   ]
  },
  {
   "cell_type": "code",
   "execution_count": 6,
   "metadata": {},
   "outputs": [
    {
     "name": "stdout",
     "output_type": "stream",
     "text": [
      "Dash is running on http://127.0.0.1:8050/\n",
      "\n",
      " * Serving Flask app '__main__'\n",
      " * Debug mode: off\n"
     ]
    },
    {
     "name": "stderr",
     "output_type": "stream",
     "text": [
      "WARNING: This is a development server. Do not use it in a production deployment. Use a production WSGI server instead.\n",
      " * Running on http://127.0.0.1:8050\n",
      "Press CTRL+C to quit\n",
      "127.0.0.1 - - [08/Mar/2024 13:29:00] \"GET / HTTP/1.1\" 200 -\n",
      "127.0.0.1 - - [08/Mar/2024 13:29:00] \"GET /_dash-layout HTTP/1.1\" 200 -\n",
      "127.0.0.1 - - [08/Mar/2024 13:29:00] \"GET /_dash-dependencies HTTP/1.1\" 200 -\n",
      "127.0.0.1 - - [08/Mar/2024 13:29:00] \"GET /_favicon.ico?v=2.9.3 HTTP/1.1\" 200 -\n",
      "127.0.0.1 - - [08/Mar/2024 13:29:00] \"GET /_dash-component-suites/dash/dcc/async-graph.js HTTP/1.1\" 304 -\n",
      "127.0.0.1 - - [08/Mar/2024 13:29:00] \"GET /_dash-component-suites/dash/dcc/async-plotlyjs.js HTTP/1.1\" 304 -\n",
      "127.0.0.1 - - [08/Mar/2024 13:29:00] \"POST /_dash-update-component HTTP/1.1\" 200 -\n"
     ]
    },
    {
     "name": "stdout",
     "output_type": "stream",
     "text": [
      "None\n"
     ]
    },
    {
     "name": "stderr",
     "output_type": "stream",
     "text": [
      "127.0.0.1 - - [08/Mar/2024 13:29:16] \"GET / HTTP/1.1\" 200 -\n",
      "127.0.0.1 - - [08/Mar/2024 13:29:16] \"GET /_dash-layout HTTP/1.1\" 200 -\n",
      "127.0.0.1 - - [08/Mar/2024 13:29:16] \"GET /_dash-dependencies HTTP/1.1\" 200 -\n",
      "127.0.0.1 - - [08/Mar/2024 13:29:17] \"GET /_dash-component-suites/dash/dcc/async-graph.js HTTP/1.1\" 304 -\n",
      "127.0.0.1 - - [08/Mar/2024 13:29:17] \"GET /_favicon.ico?v=2.9.3 HTTP/1.1\" 200 -\n",
      "127.0.0.1 - - [08/Mar/2024 13:29:17] \"GET /_dash-component-suites/dash/dcc/async-plotlyjs.js HTTP/1.1\" 304 -\n",
      "127.0.0.1 - - [08/Mar/2024 13:29:17] \"POST /_dash-update-component HTTP/1.1\" 200 -\n"
     ]
    },
    {
     "name": "stdout",
     "output_type": "stream",
     "text": [
      "None\n"
     ]
    },
    {
     "name": "stderr",
     "output_type": "stream",
     "text": [
      "127.0.0.1 - - [08/Mar/2024 13:31:25] \"POST /_dash-update-component HTTP/1.1\" 200 -\n"
     ]
    },
    {
     "name": "stdout",
     "output_type": "stream",
     "text": [
      "5d\n"
     ]
    },
    {
     "name": "stderr",
     "output_type": "stream",
     "text": [
      "127.0.0.1 - - [08/Mar/2024 13:31:26] \"POST /_dash-update-component HTTP/1.1\" 200 -\n"
     ]
    },
    {
     "name": "stdout",
     "output_type": "stream",
     "text": [
      "1mo\n"
     ]
    },
    {
     "name": "stderr",
     "output_type": "stream",
     "text": [
      "127.0.0.1 - - [08/Mar/2024 13:31:27] \"POST /_dash-update-component HTTP/1.1\" 200 -\n"
     ]
    },
    {
     "name": "stdout",
     "output_type": "stream",
     "text": [
      "5d\n"
     ]
    },
    {
     "name": "stderr",
     "output_type": "stream",
     "text": [
      "127.0.0.1 - - [08/Mar/2024 13:31:28] \"POST /_dash-update-component HTTP/1.1\" 200 -\n"
     ]
    },
    {
     "name": "stdout",
     "output_type": "stream",
     "text": [
      "5d\n",
      "5d\n"
     ]
    },
    {
     "name": "stderr",
     "output_type": "stream",
     "text": [
      "127.0.0.1 - - [09/Mar/2024 11:40:55] \"POST /_dash-update-component HTTP/1.1\" 200 -\n"
     ]
    },
    {
     "name": "stdout",
     "output_type": "stream",
     "text": [
      "1mo\n"
     ]
    },
    {
     "name": "stderr",
     "output_type": "stream",
     "text": [
      "127.0.0.1 - - [09/Mar/2024 11:40:56] \"POST /_dash-update-component HTTP/1.1\" 200 -\n"
     ]
    },
    {
     "name": "stdout",
     "output_type": "stream",
     "text": [
      "3mo\n"
     ]
    },
    {
     "name": "stderr",
     "output_type": "stream",
     "text": [
      "127.0.0.1 - - [09/Mar/2024 11:41:26] \"POST /_dash-update-component HTTP/1.1\" 200 -\n",
      "127.0.0.1 - - [09/Mar/2024 11:41:30] \"POST /_dash-update-component HTTP/1.1\" 200 -\n"
     ]
    },
    {
     "name": "stdout",
     "output_type": "stream",
     "text": [
      "6mo\n",
      "5d\n"
     ]
    },
    {
     "name": "stderr",
     "output_type": "stream",
     "text": [
      "127.0.0.1 - - [09/Mar/2024 11:41:31] \"POST /_dash-update-component HTTP/1.1\" 200 -\n"
     ]
    },
    {
     "name": "stdout",
     "output_type": "stream",
     "text": [
      "1mo\n"
     ]
    },
    {
     "name": "stderr",
     "output_type": "stream",
     "text": [
      "127.0.0.1 - - [09/Mar/2024 11:41:33] \"POST /_dash-update-component HTTP/1.1\" 200 -\n"
     ]
    },
    {
     "name": "stdout",
     "output_type": "stream",
     "text": [
      "3mo\n"
     ]
    },
    {
     "name": "stderr",
     "output_type": "stream",
     "text": [
      "127.0.0.1 - - [09/Mar/2024 11:41:34] \"POST /_dash-update-component HTTP/1.1\" 200 -\n"
     ]
    },
    {
     "name": "stdout",
     "output_type": "stream",
     "text": [
      "10y\n"
     ]
    },
    {
     "name": "stderr",
     "output_type": "stream",
     "text": [
      "127.0.0.1 - - [09/Mar/2024 11:41:46] \"POST /_dash-update-component HTTP/1.1\" 200 -\n"
     ]
    },
    {
     "name": "stdout",
     "output_type": "stream",
     "text": [
      "5y\n"
     ]
    },
    {
     "name": "stderr",
     "output_type": "stream",
     "text": [
      "127.0.0.1 - - [09/Mar/2024 11:41:51] \"POST /_dash-update-component HTTP/1.1\" 200 -\n"
     ]
    },
    {
     "name": "stdout",
     "output_type": "stream",
     "text": [
      "2y\n"
     ]
    },
    {
     "name": "stderr",
     "output_type": "stream",
     "text": [
      "127.0.0.1 - - [09/Mar/2024 11:41:56] \"POST /_dash-update-component HTTP/1.1\" 200 -\n"
     ]
    }
   ],
   "source": [
    "import pandas as pd\n",
    "import numpy as np\n",
    "from dash import Dash, html, Output, Input, dcc, callback, ctx, State, dash_table\n",
    "import plotly.graph_objects as go\n",
    "import yfinance as yf\n",
    "import dash_bootstrap_components as dbc\n",
    "from dash_bootstrap_templates import load_figure_template\n",
    "\n",
    "# dbc_css = (\"https://cdn.jsdelivr.net/gh/AnnMarieW/dash-bootstrap-templates@V1.0.2/dbc.min.css\")\n",
    "\n",
    "\n",
    "load_figure_template(\"SLATE\")\n",
    "# app = Dash(external_stylesheets=[dbc.themes.DARKLY])\n",
    "app = Dash(__name__, external_stylesheets=[dbc.themes.SLATE])\n",
    "\n",
    "def card_col(card_id, card_title):\n",
    "    \"\"\"\n",
    "    Returns the cards displayed on top of the dashboard to show difference performance. takes value passed via html id, \n",
    "    and the name of the card \n",
    "    \"\"\"\n",
    "    return dbc.Col(\n",
    "        dbc.Card(\n",
    "            [\n",
    "                dbc.CardBody([html.H4(id=card_id), html.P(card_title)])\n",
    "            ],\n",
    "        )\n",
    "    )\n",
    "\n",
    "app.layout = dbc.Container(\n",
    "    [\n",
    "        html.H3(id=\"title_id\", className=\"display-5 mb-2\"),\n",
    "        # reserved for performance cards\n",
    "        dbc.Row(\n",
    "            [\n",
    "                card_col(\"price\", \"Market Price\"),\n",
    "                card_col(\"average\", \"Average Price\"),\n",
    "                card_col(\"gain\", \"Gain/Loss\"),\n",
    "            ],\n",
    "            className=\"mb-2\",\n",
    "        ),\n",
    "        dbc.Tabs(\n",
    "            [\n",
    "                dbc.Tab(\n",
    "                    label=\"Trends\",\n",
    "                    children=[\n",
    "                        html.Div(\n",
    "                            chart_data(html, dbc, dcc),\n",
    "                        )\n",
    "                    ],\n",
    "                ),\n",
    "                dbc.Tab(\n",
    "                    label=\"Performance\",\n",
    "                    children=[html.Div(performance_tab_table(html, dbc))],\n",
    "                ),\n",
    "            ]\n",
    "        ),\n",
    "    ],\n",
    "    # className=\"dbc\",\n",
    ")\n",
    "\n",
    "\n",
    "@callback(\n",
    "    Output(\"graph\", \"figure\"),\n",
    "    Output(\"title_id\", \"children\"),\n",
    "    Output(\"error_id\", \"children\"),\n",
    "    Output(\"price\", \"children\"),\n",
    "    Output(\"average\", \"children\"),\n",
    "    Output(\"gain\", \"children\"),\n",
    "    Output(\"table-container\", \"children\"),\n",
    "    # “1d”, “5d”, “1mo”, “3mo”, “6mo”, “1y”, “2y”, “5y”, “10y”, “ytd”, “max”\n",
    "    # Input(\"1d\", \"n_clicks\"),\n",
    "    Input(\"5d\", \"n_clicks\"),\n",
    "    Input(\"1mo\", \"n_clicks\"),\n",
    "    Input(\"3mo\", \"n_clicks\"),\n",
    "    Input(\"6mo\", \"n_clicks\"),\n",
    "    Input(\"1y\", \"n_clicks\"),\n",
    "    Input(\"2y\", \"n_clicks\"),\n",
    "    Input(\"5y\", \"n_clicks\"),\n",
    "    Input(\"10y\", \"n_clicks\"),\n",
    "    Input(\"ytd\", \"n_clicks\"),\n",
    "    Input(\"max\", \"n_clicks\"),\n",
    "    State(\"symbol\", \"value\"),\n",
    "    Input(\"find\", \"n_clicks\"),\n",
    ")\n",
    "def index(btn_5d, btn_1mo, btn_3mo, btn_6mo, btn_1y, btn_2y, btn_5y, btn_10y, btn_ytd, btn_max, value, find):\n",
    "    # handle wrong input\n",
    "    period = ''\n",
    "    df = yf.Ticker(value).history(period=\"1Y\")\n",
    "    fig = draw_figure(df)\n",
    "    error = ''\n",
    "    price = '$00.00'\n",
    "    data = None\n",
    "\n",
    "    # handle find button clicked\n",
    "    if ctx.triggered_id == 'find':\n",
    "        df = yf.Ticker(value).history(period=\"1Y\")\n",
    "        # fig = draw_figure(df)\n",
    "        # data = get_return(df)\n",
    "\n",
    "        if df.empty:\n",
    "            error = f\"No data found, symbol may be delisted\"\n",
    "        else:\n",
    "            error = \"\"\n",
    "\n",
    "        # fig = draw_figure(df)\n",
    "\n",
    "    # handle button clicks\n",
    "    print(ctx.triggered_id)\n",
    "    if ctx.triggered_id == None or ctx.triggered_id == 'find' :\n",
    "        period = '1Y'\n",
    "        df = yf.Ticker(value).history(period=\"1y\")\n",
    "        # data = get_return(df)\n",
    "        # fig = draw_figure(df)\n",
    "    else:\n",
    "        period = str(ctx.triggered_id).upper()\n",
    "        df = yf.Ticker(value).history(period=ctx.triggered_id)\n",
    "        # data = get_return(df)\n",
    "        # fig = draw_figure(df)\n",
    "\n",
    "    price = f'${np.round( df.iloc[len(df)-1][\"Close\"], decimals=2)}'\n",
    "    average = f'${df[\"Close\"].mean().round(2)}'\n",
    "\n",
    "    # gain = (end_price - start_price) end_price * 100\n",
    "    gain = (((df.iloc[len(df)-1][\"Close\"] - df.iloc[0][\"Close\"]) / df.iloc[len(df)-1][\"Close\"]) * 100).round(2)\n",
    "\n",
    "    data = get_return(df)\n",
    "    fig = draw_figure(df)\n",
    "\n",
    "    # table goes here\n",
    "    table = dbc.Table.from_dataframe(\n",
    "                    data,\n",
    "                    striped = True,\n",
    "                    bordered = True,\n",
    "                    hover = True,\n",
    "                    color='dark',\n",
    "                    class_name='dbc'\n",
    "                )\n",
    "\n",
    "    return fig, f\"{str(value).upper()} ({period}) Stock Analysis\", error, price, average, f'%{gain}' , table\n",
    "\n",
    "\n",
    "if __name__ == '__main__':\n",
    "    app.run_server(debug=False)"
   ]
  }
 ],
 "metadata": {
  "kernelspec": {
   "display_name": "base",
   "language": "python",
   "name": "python3"
  },
  "language_info": {
   "codemirror_mode": {
    "name": "ipython",
    "version": 3
   },
   "file_extension": ".py",
   "mimetype": "text/x-python",
   "name": "python",
   "nbconvert_exporter": "python",
   "pygments_lexer": "ipython3",
   "version": "3.10.9"
  }
 },
 "nbformat": 4,
 "nbformat_minor": 2
}
